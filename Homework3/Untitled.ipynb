{
 "cells": [
  {
   "cell_type": "markdown",
   "metadata": {},
   "source": [
    "## Homework 3 - Data Scraping\n",
    "### Nadia AlMutlak and Jonah Schaecter\n",
    "\n",
    "### Instructions:\n",
    "\n",
    "1. Pick a dataset from the web\n",
    "2. Write a scraper that downloads the data to a file\n",
    "\n",
    "### Deliverables:\n",
    " Code for the scraper with a file that:\n",
    "1. Explains how it works and how to run it\n",
    "2. Explains which database you would use to store this data.\n",
    "3. Data file generated from the scraper"
   ]
  },
  {
   "cell_type": "code",
   "execution_count": null,
   "metadata": {
    "collapsed": true
   },
   "outputs": [],
   "source": []
  }
 ],
 "metadata": {
  "kernelspec": {
   "display_name": "Python 3",
   "language": "python",
   "name": "python3"
  },
  "language_info": {
   "codemirror_mode": {
    "name": "ipython",
    "version": 3
   },
   "file_extension": ".py",
   "mimetype": "text/x-python",
   "name": "python",
   "nbconvert_exporter": "python",
   "pygments_lexer": "ipython3",
   "version": "3.6.3"
  }
 },
 "nbformat": 4,
 "nbformat_minor": 2
}
